{
 "nbformat": 4,
 "nbformat_minor": 2,
 "metadata": {
  "language_info": {
   "name": "python",
   "codemirror_mode": {
    "name": "ipython",
    "version": 3
   }
  },
  "orig_nbformat": 2,
  "file_extension": ".py",
  "mimetype": "text/x-python",
  "name": "python",
  "npconvert_exporter": "python",
  "pygments_lexer": "ipython3",
  "version": 3
 },
 "cells": [
  {
   "cell_type": "markdown",
   "execution_count": null,
   "metadata": {},
   "outputs": [],
   "source": [
    "Tree General Saccade Length and Averages"
   ]
  },
  {
   "cell_type": "code",
   "execution_count": 66,
   "metadata": {},
   "outputs": [],
   "source": [
    "# importing necessary libraries\n",
    "import pandas as pd\n",
    "import glob\n",
    "import numpy as np\n",
    "import warnings\n",
    "import os\n",
    "import re"
   ]
  },
  {
   "cell_type": "code",
   "execution_count": 72,
   "metadata": {},
   "outputs": [],
   "source": [
    "# Saccade Length Tree General\n",
    "path_tree_general = os.getcwd() + \"/data\" + \"/Tree General\"\n",
    "filenames_tree_general = glob.glob(path_tree_general + \"/*FXD.*\")\n",
    "\n",
    "tree_general_saccade_averages = []\n",
    "tree_general_scanpath = []\n",
    "participants = []\n",
    "\n",
    "# Each Users Saccade-Lengths/Average between fixation points\n",
    "for filename in filenames_tree_general:\n",
    "    #Participant \n",
    "    participants.append(re.search('Tree General/(.*).treeFXD.txt',filename).group(1))\n",
    "\n",
    "    # Initial Data\n",
    "    tree_general = []\n",
    "    tree_general.append(pd.read_csv(filename, sep = '\\t', header = None, error_bad_lines=False, warn_bad_lines=False))\n",
    "    tree_general_fxd_df = pd.concat(tree_general, ignore_index=True)\n",
    "    tree_general_fxd_df.shape\n",
    "    tree_general_fxd_df.rename(columns = {0:'number', \n",
    "                     1: 'time', \n",
    "                     2: 'duration', \n",
    "                     3: 'screen_x', \n",
    "                     4: 'screen_y'}, inplace = True)\n",
    "\n",
    "    # Saccade Lengths \n",
    "    x = (tree_general_fxd_df['screen_x'] - tree_general_fxd_df['screen_x'].shift())\n",
    "    y = (tree_general_fxd_df['screen_y'] - tree_general_fxd_df['screen_y'].shift())\n",
    "    tree_general_fxd_df['saccade_length'] = np.sqrt(x**2 + y**2)\n",
    "\n",
    "    # Find Average for user \n",
    "    tree_general_saccade_averages.append(tree_general_fxd_df['saccade_length'].mean())\n",
    "\n",
    "    # Scan Path\n",
    "    tree_general_scanpath.append(tree_general_fxd_df['saccade_length'].sum())"
   ]
  },
  {
   "cell_type": "code",
   "execution_count": 73,
   "metadata": {},
   "outputs": [],
   "source": [
    "tree_general_data = pd.DataFrame()\n",
    "tree_general_data.insert(0,'scanpath',tree_general_scanpath)\n",
    "tree_general_data.insert(1,'saccade_length',tree_general_saccade_averages)\n",
    "tree_general_data.insert(2,'ID',participants)"
   ]
  },
  {
   "cell_type": "code",
   "execution_count": 75,
   "metadata": {},
   "outputs": [
    {
     "data": {
      "text/html": "<div>\n<style scoped>\n    .dataframe tbody tr th:only-of-type {\n        vertical-align: middle;\n    }\n\n    .dataframe tbody tr th {\n        vertical-align: top;\n    }\n\n    .dataframe thead th {\n        text-align: right;\n    }\n</style>\n<table border=\"1\" class=\"dataframe\">\n  <thead>\n    <tr style=\"text-align: right;\">\n      <th></th>\n      <th>scanpath</th>\n      <th>saccade_length</th>\n      <th>ID</th>\n    </tr>\n  </thead>\n  <tbody>\n    <tr>\n      <th>0</th>\n      <td>235300.477521</td>\n      <td>107.837066</td>\n      <td>p36</td>\n    </tr>\n    <tr>\n      <th>1</th>\n      <td>186921.162485</td>\n      <td>162.398925</td>\n      <td>P11</td>\n    </tr>\n    <tr>\n      <th>2</th>\n      <td>248624.040367</td>\n      <td>136.381810</td>\n      <td>p23</td>\n    </tr>\n    <tr>\n      <th>3</th>\n      <td>308060.142440</td>\n      <td>126.047521</td>\n      <td>p5</td>\n    </tr>\n    <tr>\n      <th>4</th>\n      <td>350796.155898</td>\n      <td>123.172808</td>\n      <td>p33</td>\n    </tr>\n    <tr>\n      <th>5</th>\n      <td>875934.649058</td>\n      <td>182.981961</td>\n      <td>p25</td>\n    </tr>\n    <tr>\n      <th>6</th>\n      <td>174723.642330</td>\n      <td>129.809541</td>\n      <td>p17</td>\n    </tr>\n    <tr>\n      <th>7</th>\n      <td>211030.467246</td>\n      <td>135.016294</td>\n      <td>p3</td>\n    </tr>\n    <tr>\n      <th>8</th>\n      <td>136636.457390</td>\n      <td>135.821528</td>\n      <td>p15</td>\n    </tr>\n    <tr>\n      <th>9</th>\n      <td>425894.359246</td>\n      <td>160.957808</td>\n      <td>p1</td>\n    </tr>\n    <tr>\n      <th>10</th>\n      <td>225869.122399</td>\n      <td>122.355971</td>\n      <td>p19</td>\n    </tr>\n    <tr>\n      <th>11</th>\n      <td>223016.466128</td>\n      <td>120.679906</td>\n      <td>p28</td>\n    </tr>\n    <tr>\n      <th>12</th>\n      <td>936609.948285</td>\n      <td>170.602905</td>\n      <td>p13</td>\n    </tr>\n    <tr>\n      <th>13</th>\n      <td>323198.095137</td>\n      <td>142.944757</td>\n      <td>p21</td>\n    </tr>\n    <tr>\n      <th>14</th>\n      <td>87992.153602</td>\n      <td>215.139740</td>\n      <td>p31</td>\n    </tr>\n    <tr>\n      <th>15</th>\n      <td>329796.118742</td>\n      <td>121.695985</td>\n      <td>p7</td>\n    </tr>\n  </tbody>\n</table>\n</div>",
      "text/plain": "         scanpath  saccade_length   ID\n0   235300.477521      107.837066  p36\n1   186921.162485      162.398925  P11\n2   248624.040367      136.381810  p23\n3   308060.142440      126.047521   p5\n4   350796.155898      123.172808  p33\n5   875934.649058      182.981961  p25\n6   174723.642330      129.809541  p17\n7   211030.467246      135.016294   p3\n8   136636.457390      135.821528  p15\n9   425894.359246      160.957808   p1\n10  225869.122399      122.355971  p19\n11  223016.466128      120.679906  p28\n12  936609.948285      170.602905  p13\n13  323198.095137      142.944757  p21\n14   87992.153602      215.139740  p31\n15  329796.118742      121.695985   p7"
     },
     "execution_count": 75,
     "metadata": {},
     "output_type": "execute_result"
    }
   ],
   "source": [
    "tree_general_data"
   ]
  },
  {
   "cell_type": "markdown",
   "execution_count": null,
   "metadata": {},
   "outputs": [],
   "source": [
    "Additional Participant Data"
   ]
  },
  {
   "cell_type": "code",
   "execution_count": 76,
   "metadata": {},
   "outputs": [],
   "source": [
    "path_additional_participants = os.getcwd() + \"/data\" + \"/Additional Participant Data.csv\" \n",
    "df = pd.read_csv(path_additional_participants)"
   ]
  },
  {
   "cell_type": "code",
   "execution_count": 86,
   "metadata": {},
   "outputs": [],
   "source": [
    "# Combine (Additional P Data) and Tree General Data -> to the associated participant depending on if (1/2)\n",
    "\n",
    "# Remove Rows where Ontologies and Visualizations are not General/Tree\n",
    "df = df[df.Ontologies != 2]\n",
    "df = df[df.Visualization != 2]\n",
    "\n",
    "# Merge the Dataframes on ID\n",
    "additional_data_df = pd.merge(tree_general_data, additional_data_df, on='ID',how='outer')"
   ]
  },
  {
   "cell_type": "code",
   "execution_count": 88,
   "metadata": {},
   "outputs": [
    {
     "data": {
      "text/html": "<div>\n<style scoped>\n    .dataframe tbody tr th:only-of-type {\n        vertical-align: middle;\n    }\n\n    .dataframe tbody tr th {\n        vertical-align: top;\n    }\n\n    .dataframe thead th {\n        text-align: right;\n    }\n</style>\n<table border=\"1\" class=\"dataframe\">\n  <thead>\n    <tr style=\"text-align: right;\">\n      <th></th>\n      <th>ID</th>\n      <th>Ontologies</th>\n      <th>Visualization</th>\n      <th>Task_Success</th>\n      <th>Time_On_Task</th>\n    </tr>\n  </thead>\n  <tbody>\n    <tr>\n      <th>0</th>\n      <td>p36</td>\n      <td>NaN</td>\n      <td>NaN</td>\n      <td>NaN</td>\n      <td>NaN</td>\n    </tr>\n    <tr>\n      <th>1</th>\n      <td>P11</td>\n      <td>NaN</td>\n      <td>NaN</td>\n      <td>NaN</td>\n      <td>NaN</td>\n    </tr>\n    <tr>\n      <th>2</th>\n      <td>p23</td>\n      <td>1.0</td>\n      <td>1.0</td>\n      <td>0.565217</td>\n      <td>13.0</td>\n    </tr>\n    <tr>\n      <th>3</th>\n      <td>p5</td>\n      <td>1.0</td>\n      <td>1.0</td>\n      <td>0.521739</td>\n      <td>22.0</td>\n    </tr>\n    <tr>\n      <th>4</th>\n      <td>p33</td>\n      <td>1.0</td>\n      <td>1.0</td>\n      <td>0.478261</td>\n      <td>22.0</td>\n    </tr>\n    <tr>\n      <th>5</th>\n      <td>p25</td>\n      <td>1.0</td>\n      <td>1.0</td>\n      <td>0.565217</td>\n      <td>34.0</td>\n    </tr>\n    <tr>\n      <th>6</th>\n      <td>p17</td>\n      <td>1.0</td>\n      <td>1.0</td>\n      <td>0.434783</td>\n      <td>14.0</td>\n    </tr>\n    <tr>\n      <th>7</th>\n      <td>p3</td>\n      <td>1.0</td>\n      <td>1.0</td>\n      <td>0.478261</td>\n      <td>10.0</td>\n    </tr>\n    <tr>\n      <th>8</th>\n      <td>p15</td>\n      <td>1.0</td>\n      <td>1.0</td>\n      <td>0.521739</td>\n      <td>9.0</td>\n    </tr>\n    <tr>\n      <th>9</th>\n      <td>p1</td>\n      <td>1.0</td>\n      <td>1.0</td>\n      <td>0.608696</td>\n      <td>26.0</td>\n    </tr>\n    <tr>\n      <th>10</th>\n      <td>p19</td>\n      <td>1.0</td>\n      <td>1.0</td>\n      <td>0.565217</td>\n      <td>14.0</td>\n    </tr>\n    <tr>\n      <th>11</th>\n      <td>p28</td>\n      <td>NaN</td>\n      <td>NaN</td>\n      <td>NaN</td>\n      <td>NaN</td>\n    </tr>\n    <tr>\n      <th>12</th>\n      <td>p13</td>\n      <td>1.0</td>\n      <td>1.0</td>\n      <td>0.434783</td>\n      <td>35.0</td>\n    </tr>\n    <tr>\n      <th>13</th>\n      <td>p21</td>\n      <td>1.0</td>\n      <td>1.0</td>\n      <td>0.434783</td>\n      <td>16.0</td>\n    </tr>\n    <tr>\n      <th>14</th>\n      <td>p31</td>\n      <td>1.0</td>\n      <td>1.0</td>\n      <td>0.391304</td>\n      <td>14.0</td>\n    </tr>\n    <tr>\n      <th>15</th>\n      <td>p7</td>\n      <td>1.0</td>\n      <td>1.0</td>\n      <td>0.565217</td>\n      <td>16.0</td>\n    </tr>\n  </tbody>\n</table>\n</div>",
      "text/plain": "     ID  Ontologies  Visualization  Task_Success  Time_On_Task\n0   p36         NaN            NaN           NaN           NaN\n1   P11         NaN            NaN           NaN           NaN\n2   p23         1.0            1.0      0.565217          13.0\n3    p5         1.0            1.0      0.521739          22.0\n4   p33         1.0            1.0      0.478261          22.0\n5   p25         1.0            1.0      0.565217          34.0\n6   p17         1.0            1.0      0.434783          14.0\n7    p3         1.0            1.0      0.478261          10.0\n8   p15         1.0            1.0      0.521739           9.0\n9    p1         1.0            1.0      0.608696          26.0\n10  p19         1.0            1.0      0.565217          14.0\n11  p28         NaN            NaN           NaN           NaN\n12  p13         1.0            1.0      0.434783          35.0\n13  p21         1.0            1.0      0.434783          16.0\n14  p31         1.0            1.0      0.391304          14.0\n15   p7         1.0            1.0      0.565217          16.0"
     },
     "execution_count": 88,
     "metadata": {},
     "output_type": "execute_result"
    }
   ],
   "source": [
    "# Dropped Columns\n",
    "additional_data_df.drop(columns=['scanpath_x','saccade_length_x','saccade_length_y','scanpath_y'])"
   ]
  },
  {
   "cell_type": "code",
   "execution_count": null,
   "metadata": {},
   "outputs": [],
   "source": []
  }
 ]
}