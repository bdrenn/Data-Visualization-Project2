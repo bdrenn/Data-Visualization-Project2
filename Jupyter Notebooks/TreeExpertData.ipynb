{
 "nbformat": 4,
 "nbformat_minor": 2,
 "metadata": {
  "language_info": {
   "name": "python",
   "codemirror_mode": {
    "name": "ipython",
    "version": 3
   }
  },
  "orig_nbformat": 2,
  "file_extension": ".py",
  "mimetype": "text/x-python",
  "name": "python",
  "npconvert_exporter": "python",
  "pygments_lexer": "ipython3",
  "version": 3
 },
 "cells": [
  {
   "cell_type": "markdown",
   "execution_count": null,
   "metadata": {},
   "outputs": [],
   "source": [
    "Tree Expert Saccade Length and Averages "
   ]
  },
  {
   "cell_type": "code",
   "execution_count": 1,
   "metadata": {},
   "outputs": [],
   "source": [
    "# importing necessary libraries\n",
    "import pandas as pd\n",
    "import glob\n",
    "import numpy as np\n",
    "import warnings\n",
    "import os\n",
    "import re"
   ]
  },
  {
   "cell_type": "code",
   "execution_count": 3,
   "metadata": {},
   "outputs": [],
   "source": [
    "# Saccade Length Tree Expert\n",
    "path_tree_expert = os.getcwd() + \"/data\" + \"/Tree Expert\"\n",
    "filenames_tree_expert = glob.glob(path_tree_expert + \"/*FXD.*\")\n",
    "\n",
    "tree_expert_saccade_averages = []\n",
    "tree_expert_scanpath = []\n",
    "participants = []\n",
    "\n",
    "# Each Users Saccade-Lengths/Average between fixation points\n",
    "for filename in filenames_tree_expert:\n",
    "    #Participant \n",
    "    participants.append(re.search('Tree Expert/(.*).treeFXD.txt',filename).group(1))\n",
    "\n",
    "    # Initial Data\n",
    "    tree_expert = []\n",
    "    tree_expert.append(pd.read_csv(filename, sep = '\\t', header = None, error_bad_lines=False, warn_bad_lines=False))\n",
    "    tree_expert_fxd_df = pd.concat(tree_expert, ignore_index=True)\n",
    "    tree_expert_fxd_df.shape\n",
    "    tree_expert_fxd_df.rename(columns = {0:'number', \n",
    "                     1: 'time', \n",
    "                     2: 'duration', \n",
    "                     3: 'screen_x', \n",
    "                     4: 'screen_y'}, inplace = True)\n",
    "\n",
    "    # Saccade Lengths \n",
    "    x = (tree_expert_fxd_df['screen_x'] - tree_expert_fxd_df['screen_x'].shift())\n",
    "    y = (tree_expert_fxd_df['screen_y'] - tree_expert_fxd_df['screen_y'].shift())\n",
    "    tree_expert_fxd_df['saccade_length'] = np.sqrt(x**2 + y**2)\n",
    "\n",
    "    # Find Average for user \n",
    "    tree_expert_saccade_averages.append(tree_expert_fxd_df['saccade_length'].mean())\n",
    "\n",
    "    # Scan Path\n",
    "    tree_expert_scanpath.append(tree_expert_fxd_df['saccade_length'].sum())"
   ]
  },
  {
   "cell_type": "code",
   "execution_count": 4,
   "metadata": {},
   "outputs": [],
   "source": [
    "tree_expert_data = pd.DataFrame()\n",
    "tree_expert_data.insert(0,'scanpath',tree_expert_scanpath)\n",
    "tree_expert_data.insert(1,'saccade_length',tree_expert_saccade_averages)\n",
    "tree_expert_data.insert(2,'ID',participants)"
   ]
  },
  {
   "cell_type": "code",
   "execution_count": 5,
   "metadata": {},
   "outputs": [
    {
     "data": {
      "text/html": "<div>\n<style scoped>\n    .dataframe tbody tr th:only-of-type {\n        vertical-align: middle;\n    }\n\n    .dataframe tbody tr th {\n        vertical-align: top;\n    }\n\n    .dataframe thead th {\n        text-align: right;\n    }\n</style>\n<table border=\"1\" class=\"dataframe\">\n  <thead>\n    <tr style=\"text-align: right;\">\n      <th></th>\n      <th>scanpath</th>\n      <th>saccade_length</th>\n      <th>ID</th>\n    </tr>\n  </thead>\n  <tbody>\n    <tr>\n      <th>0</th>\n      <td>524393.228012</td>\n      <td>147.384269</td>\n      <td>p18</td>\n    </tr>\n    <tr>\n      <th>1</th>\n      <td>343056.293960</td>\n      <td>95.852555</td>\n      <td>p14</td>\n    </tr>\n    <tr>\n      <th>2</th>\n      <td>714182.645895</td>\n      <td>105.789164</td>\n      <td>p6</td>\n    </tr>\n    <tr>\n      <th>3</th>\n      <td>596143.493970</td>\n      <td>117.074527</td>\n      <td>p30</td>\n    </tr>\n    <tr>\n      <th>4</th>\n      <td>45009.892313</td>\n      <td>96.380926</td>\n      <td>p20</td>\n    </tr>\n    <tr>\n      <th>5</th>\n      <td>128494.936014</td>\n      <td>113.611791</td>\n      <td>p12</td>\n    </tr>\n    <tr>\n      <th>6</th>\n      <td>123873.322732</td>\n      <td>121.802677</td>\n      <td>p35</td>\n    </tr>\n    <tr>\n      <th>7</th>\n      <td>209846.517933</td>\n      <td>121.018753</td>\n      <td>p32</td>\n    </tr>\n    <tr>\n      <th>8</th>\n      <td>121734.704082</td>\n      <td>206.680313</td>\n      <td>p4</td>\n    </tr>\n    <tr>\n      <th>9</th>\n      <td>257950.251477</td>\n      <td>159.919561</td>\n      <td>p27</td>\n    </tr>\n    <tr>\n      <th>10</th>\n      <td>594968.663180</td>\n      <td>120.756782</td>\n      <td>p10</td>\n    </tr>\n    <tr>\n      <th>11</th>\n      <td>324201.000722</td>\n      <td>125.659303</td>\n      <td>p2</td>\n    </tr>\n    <tr>\n      <th>12</th>\n      <td>985287.825850</td>\n      <td>142.774645</td>\n      <td>p34</td>\n    </tr>\n    <tr>\n      <th>13</th>\n      <td>508050.961868</td>\n      <td>132.928038</td>\n      <td>p16</td>\n    </tr>\n    <tr>\n      <th>14</th>\n      <td>279982.268768</td>\n      <td>152.745373</td>\n      <td>p24</td>\n    </tr>\n  </tbody>\n</table>\n</div>",
      "text/plain": "         scanpath  saccade_length   ID\n0   524393.228012      147.384269  p18\n1   343056.293960       95.852555  p14\n2   714182.645895      105.789164   p6\n3   596143.493970      117.074527  p30\n4    45009.892313       96.380926  p20\n5   128494.936014      113.611791  p12\n6   123873.322732      121.802677  p35\n7   209846.517933      121.018753  p32\n8   121734.704082      206.680313   p4\n9   257950.251477      159.919561  p27\n10  594968.663180      120.756782  p10\n11  324201.000722      125.659303   p2\n12  985287.825850      142.774645  p34\n13  508050.961868      132.928038  p16\n14  279982.268768      152.745373  p24"
     },
     "execution_count": 5,
     "metadata": {},
     "output_type": "execute_result"
    }
   ],
   "source": [
    "tree_expert_data"
   ]
  },
  {
   "cell_type": "markdown",
   "execution_count": null,
   "metadata": {},
   "outputs": [],
   "source": [
    "Additional Participant Data"
   ]
  },
  {
   "cell_type": "code",
   "execution_count": 6,
   "metadata": {},
   "outputs": [],
   "source": [
    "path_additional_participants = os.getcwd() + \"/data\" + \"/Additional Participant Data.csv\" \n",
    "df = pd.read_csv(path_additional_participants)"
   ]
  },
  {
   "cell_type": "code",
   "execution_count": 7,
   "metadata": {},
   "outputs": [
    {
     "data": {
      "text/html": "<div>\n<style scoped>\n    .dataframe tbody tr th:only-of-type {\n        vertical-align: middle;\n    }\n\n    .dataframe tbody tr th {\n        vertical-align: top;\n    }\n\n    .dataframe thead th {\n        text-align: right;\n    }\n</style>\n<table border=\"1\" class=\"dataframe\">\n  <thead>\n    <tr style=\"text-align: right;\">\n      <th></th>\n      <th>scanpath</th>\n      <th>saccade_length</th>\n      <th>ID</th>\n      <th>Ontologies</th>\n      <th>Visualization</th>\n      <th>Task_Success</th>\n      <th>Time_On_Task</th>\n    </tr>\n  </thead>\n  <tbody>\n    <tr>\n      <th>0</th>\n      <td>524393.228012</td>\n      <td>147.384269</td>\n      <td>p18</td>\n      <td>2.0</td>\n      <td>1.0</td>\n      <td>0.565217</td>\n      <td>27.0</td>\n    </tr>\n    <tr>\n      <th>1</th>\n      <td>343056.293960</td>\n      <td>95.852555</td>\n      <td>p14</td>\n      <td>2.0</td>\n      <td>1.0</td>\n      <td>0.217391</td>\n      <td>28.0</td>\n    </tr>\n    <tr>\n      <th>2</th>\n      <td>714182.645895</td>\n      <td>105.789164</td>\n      <td>p6</td>\n      <td>2.0</td>\n      <td>1.0</td>\n      <td>0.739130</td>\n      <td>43.0</td>\n    </tr>\n    <tr>\n      <th>3</th>\n      <td>596143.493970</td>\n      <td>117.074527</td>\n      <td>p30</td>\n      <td>2.0</td>\n      <td>1.0</td>\n      <td>0.478261</td>\n      <td>32.0</td>\n    </tr>\n    <tr>\n      <th>4</th>\n      <td>45009.892313</td>\n      <td>96.380926</td>\n      <td>p20</td>\n      <td>2.0</td>\n      <td>1.0</td>\n      <td>0.434783</td>\n      <td>23.0</td>\n    </tr>\n    <tr>\n      <th>5</th>\n      <td>128494.936014</td>\n      <td>113.611791</td>\n      <td>p12</td>\n      <td>2.0</td>\n      <td>1.0</td>\n      <td>0.695652</td>\n      <td>11.0</td>\n    </tr>\n    <tr>\n      <th>6</th>\n      <td>123873.322732</td>\n      <td>121.802677</td>\n      <td>p35</td>\n      <td>NaN</td>\n      <td>NaN</td>\n      <td>NaN</td>\n      <td>NaN</td>\n    </tr>\n    <tr>\n      <th>7</th>\n      <td>209846.517933</td>\n      <td>121.018753</td>\n      <td>p32</td>\n      <td>2.0</td>\n      <td>1.0</td>\n      <td>0.347826</td>\n      <td>12.0</td>\n    </tr>\n    <tr>\n      <th>8</th>\n      <td>121734.704082</td>\n      <td>206.680313</td>\n      <td>p4</td>\n      <td>2.0</td>\n      <td>1.0</td>\n      <td>0.521739</td>\n      <td>9.0</td>\n    </tr>\n    <tr>\n      <th>9</th>\n      <td>257950.251477</td>\n      <td>159.919561</td>\n      <td>p27</td>\n      <td>NaN</td>\n      <td>NaN</td>\n      <td>NaN</td>\n      <td>NaN</td>\n    </tr>\n    <tr>\n      <th>10</th>\n      <td>594968.663180</td>\n      <td>120.756782</td>\n      <td>p10</td>\n      <td>2.0</td>\n      <td>1.0</td>\n      <td>0.478261</td>\n      <td>29.0</td>\n    </tr>\n    <tr>\n      <th>11</th>\n      <td>324201.000722</td>\n      <td>125.659303</td>\n      <td>p2</td>\n      <td>2.0</td>\n      <td>1.0</td>\n      <td>0.391304</td>\n      <td>25.0</td>\n    </tr>\n    <tr>\n      <th>12</th>\n      <td>985287.825850</td>\n      <td>142.774645</td>\n      <td>p34</td>\n      <td>2.0</td>\n      <td>1.0</td>\n      <td>0.565217</td>\n      <td>49.0</td>\n    </tr>\n    <tr>\n      <th>13</th>\n      <td>508050.961868</td>\n      <td>132.928038</td>\n      <td>p16</td>\n      <td>2.0</td>\n      <td>1.0</td>\n      <td>0.478261</td>\n      <td>29.0</td>\n    </tr>\n    <tr>\n      <th>14</th>\n      <td>279982.268768</td>\n      <td>152.745373</td>\n      <td>p24</td>\n      <td>2.0</td>\n      <td>1.0</td>\n      <td>0.739130</td>\n      <td>25.0</td>\n    </tr>\n    <tr>\n      <th>15</th>\n      <td>NaN</td>\n      <td>NaN</td>\n      <td>p28</td>\n      <td>2.0</td>\n      <td>1.0</td>\n      <td>0.521739</td>\n      <td>13.0</td>\n    </tr>\n    <tr>\n      <th>16</th>\n      <td>NaN</td>\n      <td>NaN</td>\n      <td>p36</td>\n      <td>2.0</td>\n      <td>1.0</td>\n      <td>0.521739</td>\n      <td>15.0</td>\n    </tr>\n  </tbody>\n</table>\n</div>",
      "text/plain": "         scanpath  saccade_length   ID  Ontologies  Visualization  \\\n0   524393.228012      147.384269  p18         2.0            1.0   \n1   343056.293960       95.852555  p14         2.0            1.0   \n2   714182.645895      105.789164   p6         2.0            1.0   \n3   596143.493970      117.074527  p30         2.0            1.0   \n4    45009.892313       96.380926  p20         2.0            1.0   \n5   128494.936014      113.611791  p12         2.0            1.0   \n6   123873.322732      121.802677  p35         NaN            NaN   \n7   209846.517933      121.018753  p32         2.0            1.0   \n8   121734.704082      206.680313   p4         2.0            1.0   \n9   257950.251477      159.919561  p27         NaN            NaN   \n10  594968.663180      120.756782  p10         2.0            1.0   \n11  324201.000722      125.659303   p2         2.0            1.0   \n12  985287.825850      142.774645  p34         2.0            1.0   \n13  508050.961868      132.928038  p16         2.0            1.0   \n14  279982.268768      152.745373  p24         2.0            1.0   \n15            NaN             NaN  p28         2.0            1.0   \n16            NaN             NaN  p36         2.0            1.0   \n\n    Task_Success  Time_On_Task  \n0       0.565217          27.0  \n1       0.217391          28.0  \n2       0.739130          43.0  \n3       0.478261          32.0  \n4       0.434783          23.0  \n5       0.695652          11.0  \n6            NaN           NaN  \n7       0.347826          12.0  \n8       0.521739           9.0  \n9            NaN           NaN  \n10      0.478261          29.0  \n11      0.391304          25.0  \n12      0.565217          49.0  \n13      0.478261          29.0  \n14      0.739130          25.0  \n15      0.521739          13.0  \n16      0.521739          15.0  "
     },
     "execution_count": 7,
     "metadata": {},
     "output_type": "execute_result"
    }
   ],
   "source": [
    "# Combine (Additional P Data) and Tree General Data -> to the associated participant depending on if (1/2)\n",
    "\n",
    "# Remove Rows where Ontologies and Visualizations are not General/Tree\n",
    "df = df[df.Ontologies != 1]\n",
    "df = df[df.Visualization != 2]\n",
    "\n",
    "# Merge the Dataframes on ID\n",
    "additional_data_df = pd.merge(tree_expert_data,df, on='ID',how='outer')\n",
    "additional_data_df.head(20)"
   ]
  },
  {
   "cell_type": "code",
   "execution_count": null,
   "metadata": {},
   "outputs": [],
   "source": []
  }
 ]
}