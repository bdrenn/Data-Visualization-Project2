{
 "nbformat": 4,
 "nbformat_minor": 2,
 "metadata": {
  "language_info": {
   "name": "python",
   "codemirror_mode": {
    "name": "ipython",
    "version": 3
   }
  },
  "orig_nbformat": 2,
  "file_extension": ".py",
  "mimetype": "text/x-python",
  "name": "python",
  "npconvert_exporter": "python",
  "pygments_lexer": "ipython3",
  "version": 3
 },
 "cells": [
  {
   "cell_type": "code",
   "execution_count": 28,
   "metadata": {},
   "outputs": [],
   "source": [
    "# importing necessary libraries\n",
    "import pandas as pd\n",
    "import glob\n",
    "import numpy as np\n",
    "import warnings\n",
    "import os\n",
    "import re"
   ]
  },
  {
   "cell_type": "code",
   "execution_count": 29,
   "metadata": {},
   "outputs": [],
   "source": [
    "# Saccade Length Graph Expert\n",
    "path_graph_expert = os.getcwd() + \"/data\" + \"/Graph Expert\"\n",
    "filenames_graph_expert = glob.glob(path_graph_expert + \"/*FXD.*\")\n",
    "\n",
    "graph_expert_saccade_averages = []\n",
    "graph_expert_scanpath = []\n",
    "participants = []\n",
    "\n",
    "# Each Users Saccade-Lengths/Average between fixation points\n",
    "for filename in filenames_graph_expert:\n",
    "    #Participant \n",
    "    participants.append(re.search('Graph Expert/(.*).graphFXD.txt',filename).group(1))\n",
    "\n",
    "    # Initial Data\n",
    "    graph_expert = []\n",
    "    graph_expert.append(pd.read_csv(filename, sep = '\\t', header = None, error_bad_lines=False, warn_bad_lines=False))\n",
    "    graph_expert_fxd_df = pd.concat(graph_expert, ignore_index=True)\n",
    "    graph_expert_fxd_df.shape\n",
    "    graph_expert_fxd_df.rename(columns = {0:'number', \n",
    "                     1: 'time', \n",
    "                     2: 'duration', \n",
    "                     3: 'screen_x', \n",
    "                     4: 'screen_y'}, inplace = True)\n",
    "\n",
    "    # Saccade Lengths \n",
    "    x = (graph_expert_fxd_df['screen_x'] - graph_expert_fxd_df['screen_x'].shift())\n",
    "    y = (graph_expert_fxd_df['screen_y'] - graph_expert_fxd_df['screen_y'].shift())\n",
    "    graph_expert_fxd_df['saccade_length'] = np.sqrt(x**2 + y**2)\n",
    "\n",
    "    # Find Average for user \n",
    "    graph_expert_saccade_averages.append(graph_expert_fxd_df['saccade_length'].mean())\n",
    "\n",
    "    # Scan Path\n",
    "    graph_expert_scanpath.append(graph_expert_fxd_df['saccade_length'].sum())"
   ]
  },
  {
   "cell_type": "code",
   "execution_count": 30,
   "metadata": {},
   "outputs": [],
   "source": [
    "graph_expert_data = pd.DataFrame()\n",
    "graph_expert_data.insert(0,'scanpath',graph_expert_scanpath)\n",
    "graph_expert_data.insert(1,'saccade_length',graph_expert_saccade_averages)\n",
    "graph_expert_data.insert(2,'ID',participants)"
   ]
  },
  {
   "cell_type": "code",
   "execution_count": 31,
   "metadata": {},
   "outputs": [
    {
     "data": {
      "text/html": "<div>\n<style scoped>\n    .dataframe tbody tr th:only-of-type {\n        vertical-align: middle;\n    }\n\n    .dataframe tbody tr th {\n        vertical-align: top;\n    }\n\n    .dataframe thead th {\n        text-align: right;\n    }\n</style>\n<table border=\"1\" class=\"dataframe\">\n  <thead>\n    <tr style=\"text-align: right;\">\n      <th></th>\n      <th>scanpath</th>\n      <th>saccade_length</th>\n      <th>ID</th>\n    </tr>\n  </thead>\n  <tbody>\n    <tr>\n      <th>0</th>\n      <td>1.217493e+05</td>\n      <td>121.871163</td>\n      <td>p21</td>\n    </tr>\n    <tr>\n      <th>1</th>\n      <td>3.217538e+05</td>\n      <td>137.560403</td>\n      <td>p33</td>\n    </tr>\n    <tr>\n      <th>2</th>\n      <td>3.399876e+05</td>\n      <td>101.670924</td>\n      <td>p17</td>\n    </tr>\n    <tr>\n      <th>3</th>\n      <td>3.799065e+05</td>\n      <td>100.985247</td>\n      <td>p35</td>\n    </tr>\n    <tr>\n      <th>4</th>\n      <td>4.491812e+05</td>\n      <td>125.926896</td>\n      <td>p27</td>\n    </tr>\n    <tr>\n      <th>5</th>\n      <td>5.186084e+05</td>\n      <td>141.851301</td>\n      <td>p11</td>\n    </tr>\n    <tr>\n      <th>6</th>\n      <td>2.631076e+05</td>\n      <td>106.694062</td>\n      <td>p7</td>\n    </tr>\n    <tr>\n      <th>7</th>\n      <td>3.342284e+05</td>\n      <td>138.053881</td>\n      <td>p1</td>\n    </tr>\n    <tr>\n      <th>8</th>\n      <td>9.766085e+05</td>\n      <td>122.597096</td>\n      <td>p3</td>\n    </tr>\n    <tr>\n      <th>9</th>\n      <td>2.103461e+05</td>\n      <td>131.220298</td>\n      <td>p5</td>\n    </tr>\n    <tr>\n      <th>10</th>\n      <td>1.492083e+06</td>\n      <td>132.124617</td>\n      <td>p19</td>\n    </tr>\n    <tr>\n      <th>11</th>\n      <td>8.116771e+05</td>\n      <td>140.647574</td>\n      <td>p25</td>\n    </tr>\n    <tr>\n      <th>12</th>\n      <td>7.233609e+05</td>\n      <td>143.981071</td>\n      <td>p13</td>\n    </tr>\n    <tr>\n      <th>13</th>\n      <td>1.045775e+06</td>\n      <td>117.410459</td>\n      <td>p23</td>\n    </tr>\n    <tr>\n      <th>14</th>\n      <td>6.032194e+05</td>\n      <td>143.316564</td>\n      <td>p31</td>\n    </tr>\n    <tr>\n      <th>15</th>\n      <td>1.389311e+05</td>\n      <td>120.078747</td>\n      <td>p15</td>\n    </tr>\n  </tbody>\n</table>\n</div>",
      "text/plain": "        scanpath  saccade_length   ID\n0   1.217493e+05      121.871163  p21\n1   3.217538e+05      137.560403  p33\n2   3.399876e+05      101.670924  p17\n3   3.799065e+05      100.985247  p35\n4   4.491812e+05      125.926896  p27\n5   5.186084e+05      141.851301  p11\n6   2.631076e+05      106.694062   p7\n7   3.342284e+05      138.053881   p1\n8   9.766085e+05      122.597096   p3\n9   2.103461e+05      131.220298   p5\n10  1.492083e+06      132.124617  p19\n11  8.116771e+05      140.647574  p25\n12  7.233609e+05      143.981071  p13\n13  1.045775e+06      117.410459  p23\n14  6.032194e+05      143.316564  p31\n15  1.389311e+05      120.078747  p15"
     },
     "execution_count": 31,
     "metadata": {},
     "output_type": "execute_result"
    }
   ],
   "source": [
    "graph_expert_data"
   ]
  },
  {
   "cell_type": "code",
   "execution_count": 32,
   "metadata": {},
   "outputs": [],
   "source": [
    "path_additional_participants = os.getcwd() + \"/data\" + \"/Additional Participant Data.csv\" \n",
    "df = pd.read_csv(path_additional_participants)"
   ]
  },
  {
   "cell_type": "code",
   "execution_count": 33,
   "metadata": {},
   "outputs": [
    {
     "data": {
      "text/html": "<div>\n<style scoped>\n    .dataframe tbody tr th:only-of-type {\n        vertical-align: middle;\n    }\n\n    .dataframe tbody tr th {\n        vertical-align: top;\n    }\n\n    .dataframe thead th {\n        text-align: right;\n    }\n</style>\n<table border=\"1\" class=\"dataframe\">\n  <thead>\n    <tr style=\"text-align: right;\">\n      <th></th>\n      <th>scanpath</th>\n      <th>saccade_length</th>\n      <th>ID</th>\n      <th>Ontologies</th>\n      <th>Visualization</th>\n      <th>Task_Success</th>\n      <th>Time_On_Task</th>\n    </tr>\n  </thead>\n  <tbody>\n    <tr>\n      <th>0</th>\n      <td>1.217493e+05</td>\n      <td>121.871163</td>\n      <td>p21</td>\n      <td>2</td>\n      <td>2</td>\n      <td>0.565217</td>\n      <td>6</td>\n    </tr>\n    <tr>\n      <th>1</th>\n      <td>3.217538e+05</td>\n      <td>137.560403</td>\n      <td>p33</td>\n      <td>2</td>\n      <td>2</td>\n      <td>0.347826</td>\n      <td>27</td>\n    </tr>\n    <tr>\n      <th>2</th>\n      <td>3.399876e+05</td>\n      <td>101.670924</td>\n      <td>p17</td>\n      <td>2</td>\n      <td>2</td>\n      <td>0.608696</td>\n      <td>22</td>\n    </tr>\n    <tr>\n      <th>3</th>\n      <td>3.799065e+05</td>\n      <td>100.985247</td>\n      <td>p35</td>\n      <td>2</td>\n      <td>2</td>\n      <td>0.478261</td>\n      <td>37</td>\n    </tr>\n    <tr>\n      <th>4</th>\n      <td>4.491812e+05</td>\n      <td>125.926896</td>\n      <td>p27</td>\n      <td>2</td>\n      <td>2</td>\n      <td>0.086957</td>\n      <td>50</td>\n    </tr>\n    <tr>\n      <th>5</th>\n      <td>5.186084e+05</td>\n      <td>141.851301</td>\n      <td>p11</td>\n      <td>2</td>\n      <td>2</td>\n      <td>0.347826</td>\n      <td>33</td>\n    </tr>\n    <tr>\n      <th>6</th>\n      <td>2.631076e+05</td>\n      <td>106.694062</td>\n      <td>p7</td>\n      <td>2</td>\n      <td>2</td>\n      <td>0.086957</td>\n      <td>20</td>\n    </tr>\n    <tr>\n      <th>7</th>\n      <td>3.342284e+05</td>\n      <td>138.053881</td>\n      <td>p1</td>\n      <td>2</td>\n      <td>2</td>\n      <td>0.521739</td>\n      <td>38</td>\n    </tr>\n    <tr>\n      <th>8</th>\n      <td>9.766085e+05</td>\n      <td>122.597096</td>\n      <td>p3</td>\n      <td>2</td>\n      <td>2</td>\n      <td>0.391304</td>\n      <td>50</td>\n    </tr>\n    <tr>\n      <th>9</th>\n      <td>2.103461e+05</td>\n      <td>131.220298</td>\n      <td>p5</td>\n      <td>2</td>\n      <td>2</td>\n      <td>0.434783</td>\n      <td>27</td>\n    </tr>\n    <tr>\n      <th>10</th>\n      <td>1.492083e+06</td>\n      <td>132.124617</td>\n      <td>p19</td>\n      <td>2</td>\n      <td>2</td>\n      <td>0.434783</td>\n      <td>72</td>\n    </tr>\n    <tr>\n      <th>11</th>\n      <td>8.116771e+05</td>\n      <td>140.647574</td>\n      <td>p25</td>\n      <td>2</td>\n      <td>2</td>\n      <td>0.347826</td>\n      <td>39</td>\n    </tr>\n    <tr>\n      <th>12</th>\n      <td>7.233609e+05</td>\n      <td>143.981071</td>\n      <td>p13</td>\n      <td>2</td>\n      <td>2</td>\n      <td>0.391304</td>\n      <td>27</td>\n    </tr>\n    <tr>\n      <th>13</th>\n      <td>1.045775e+06</td>\n      <td>117.410459</td>\n      <td>p23</td>\n      <td>2</td>\n      <td>2</td>\n      <td>0.391304</td>\n      <td>58</td>\n    </tr>\n    <tr>\n      <th>14</th>\n      <td>6.032194e+05</td>\n      <td>143.316564</td>\n      <td>p31</td>\n      <td>2</td>\n      <td>2</td>\n      <td>0.521739</td>\n      <td>44</td>\n    </tr>\n    <tr>\n      <th>15</th>\n      <td>1.389311e+05</td>\n      <td>120.078747</td>\n      <td>p15</td>\n      <td>2</td>\n      <td>2</td>\n      <td>0.565217</td>\n      <td>13</td>\n    </tr>\n  </tbody>\n</table>\n</div>",
      "text/plain": "        scanpath  saccade_length   ID  Ontologies  Visualization  \\\n0   1.217493e+05      121.871163  p21           2              2   \n1   3.217538e+05      137.560403  p33           2              2   \n2   3.399876e+05      101.670924  p17           2              2   \n3   3.799065e+05      100.985247  p35           2              2   \n4   4.491812e+05      125.926896  p27           2              2   \n5   5.186084e+05      141.851301  p11           2              2   \n6   2.631076e+05      106.694062   p7           2              2   \n7   3.342284e+05      138.053881   p1           2              2   \n8   9.766085e+05      122.597096   p3           2              2   \n9   2.103461e+05      131.220298   p5           2              2   \n10  1.492083e+06      132.124617  p19           2              2   \n11  8.116771e+05      140.647574  p25           2              2   \n12  7.233609e+05      143.981071  p13           2              2   \n13  1.045775e+06      117.410459  p23           2              2   \n14  6.032194e+05      143.316564  p31           2              2   \n15  1.389311e+05      120.078747  p15           2              2   \n\n    Task_Success  Time_On_Task  \n0       0.565217             6  \n1       0.347826            27  \n2       0.608696            22  \n3       0.478261            37  \n4       0.086957            50  \n5       0.347826            33  \n6       0.086957            20  \n7       0.521739            38  \n8       0.391304            50  \n9       0.434783            27  \n10      0.434783            72  \n11      0.347826            39  \n12      0.391304            27  \n13      0.391304            58  \n14      0.521739            44  \n15      0.565217            13  "
     },
     "execution_count": 33,
     "metadata": {},
     "output_type": "execute_result"
    }
   ],
   "source": [
    "# Combine (Additional P Data) and Tree General Data -> to the associated participant depending on if (1/2)\n",
    "\n",
    "# Remove Rows where Ontologies and Visualizations are not General/Tree\n",
    "df = df[df.Ontologies != 1]\n",
    "df = df[df.Visualization != 1]\n",
    "\n",
    "# Merge the Dataframes on ID\n",
    "additional_data_df = pd.merge(graph_expert_data,df, on='ID',how='outer')\n",
    "additional_data_df.head(20)"
   ]
  },
  {
   "cell_type": "code",
   "execution_count": null,
   "metadata": {},
   "outputs": [],
   "source": []
  }
 ]
}