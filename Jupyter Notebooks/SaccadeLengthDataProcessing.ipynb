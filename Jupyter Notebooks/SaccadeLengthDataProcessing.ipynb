{
 "nbformat": 4,
 "nbformat_minor": 2,
 "metadata": {
  "language_info": {
   "name": "python",
   "codemirror_mode": {
    "name": "ipython",
    "version": 3
   }
  },
  "orig_nbformat": 2,
  "file_extension": ".py",
  "mimetype": "text/x-python",
  "name": "python",
  "npconvert_exporter": "python",
  "pygments_lexer": "ipython3",
  "version": 3
 },
 "cells": [
  {
   "cell_type": "markdown",
   "execution_count": null,
   "metadata": {},
   "outputs": [],
   "source": [
    "Tree General Saccade Length and Averages"
   ]
  },
  {
   "cell_type": "code",
   "execution_count": 1,
   "metadata": {},
   "outputs": [],
   "source": [
    "# importing necessary libraries\n",
    "import pandas as pd\n",
    "import glob\n",
    "import numpy as np\n",
    "import warnings\n",
    "import os"
   ]
  },
  {
   "cell_type": "code",
   "execution_count": 2,
   "metadata": {},
   "outputs": [],
   "source": [
    "# Saccade Length Tree General\n",
    "path_tree_general = os.getcwd() + \"/data\" + \"/Tree General\"\n",
    "filenames_tree_general = glob.glob(path_tree_general + \"/*FXD.*\")\n",
    "\n",
    "saccade_averages = []\n",
    "# Each Users Saccade-Lengths/Average between fixation points\n",
    "for filename in filenames_tree_general:\n",
    "    # Initial Data\n",
    "    tree_general = []\n",
    "    tree_general.append(pd.read_csv(filename, sep = '\\t', header = None, error_bad_lines=False, warn_bad_lines=False))\n",
    "    tree_general_fxd_df = pd.concat(tree_general, ignore_index=True)\n",
    "    tree_general_fxd_df.shape\n",
    "    tree_general_fxd_df.rename(columns = {0:'number', \n",
    "                     1: 'time', \n",
    "                     2: 'duration', \n",
    "                     3: 'screen_x', \n",
    "                     4: 'screen_y'}, inplace = True)\n",
    "\n",
    "    # Saccade Lengths \n",
    "    x = (tree_general_fxd_df['screen_x'] - tree_general_fxd_df['screen_x'].shift())\n",
    "    y = (tree_general_fxd_df['screen_y'] - tree_general_fxd_df['screen_y'].shift())\n",
    "    tree_general_fxd_df['saccade_length'] = np.sqrt(x**2 + y**2)\n",
    "\n",
    "    # Find Average for user \n",
    "    saccade_averages.append(tree_general_fxd_df['saccade_length'].mean())\n",
    "\n",
    "    "
   ]
  },
  {
   "cell_type": "code",
   "execution_count": 3,
   "metadata": {},
   "outputs": [],
   "source": [
    "tree_general_saccade_df = pd.DataFrame()\n",
    "tree_general_saccade_df['saccade_averages'] = saccade_averages"
   ]
  },
  {
   "cell_type": "code",
   "execution_count": 4,
   "metadata": {},
   "outputs": [
    {
     "data": {
      "text/html": "<div>\n<style scoped>\n    .dataframe tbody tr th:only-of-type {\n        vertical-align: middle;\n    }\n\n    .dataframe tbody tr th {\n        vertical-align: top;\n    }\n\n    .dataframe thead th {\n        text-align: right;\n    }\n</style>\n<table border=\"1\" class=\"dataframe\">\n  <thead>\n    <tr style=\"text-align: right;\">\n      <th></th>\n      <th>saccade_averages</th>\n    </tr>\n  </thead>\n  <tbody>\n    <tr>\n      <th>0</th>\n      <td>107.837066</td>\n    </tr>\n    <tr>\n      <th>1</th>\n      <td>162.398925</td>\n    </tr>\n    <tr>\n      <th>2</th>\n      <td>136.381810</td>\n    </tr>\n    <tr>\n      <th>3</th>\n      <td>126.047521</td>\n    </tr>\n    <tr>\n      <th>4</th>\n      <td>123.172808</td>\n    </tr>\n    <tr>\n      <th>5</th>\n      <td>182.981961</td>\n    </tr>\n    <tr>\n      <th>6</th>\n      <td>129.809541</td>\n    </tr>\n    <tr>\n      <th>7</th>\n      <td>135.016294</td>\n    </tr>\n    <tr>\n      <th>8</th>\n      <td>135.821528</td>\n    </tr>\n    <tr>\n      <th>9</th>\n      <td>160.957808</td>\n    </tr>\n    <tr>\n      <th>10</th>\n      <td>122.355971</td>\n    </tr>\n    <tr>\n      <th>11</th>\n      <td>120.679906</td>\n    </tr>\n    <tr>\n      <th>12</th>\n      <td>170.602905</td>\n    </tr>\n    <tr>\n      <th>13</th>\n      <td>142.944757</td>\n    </tr>\n    <tr>\n      <th>14</th>\n      <td>215.139740</td>\n    </tr>\n    <tr>\n      <th>15</th>\n      <td>121.695985</td>\n    </tr>\n  </tbody>\n</table>\n</div>",
      "text/plain": "    saccade_averages\n0         107.837066\n1         162.398925\n2         136.381810\n3         126.047521\n4         123.172808\n5         182.981961\n6         129.809541\n7         135.016294\n8         135.821528\n9         160.957808\n10        122.355971\n11        120.679906\n12        170.602905\n13        142.944757\n14        215.139740\n15        121.695985"
     },
     "execution_count": 4,
     "metadata": {},
     "output_type": "execute_result"
    }
   ],
   "source": [
    "tree_general_saccade_df"
   ]
  },
  {
   "cell_type": "code",
   "execution_count": null,
   "metadata": {},
   "outputs": [],
   "source": []
  }
 ]
}