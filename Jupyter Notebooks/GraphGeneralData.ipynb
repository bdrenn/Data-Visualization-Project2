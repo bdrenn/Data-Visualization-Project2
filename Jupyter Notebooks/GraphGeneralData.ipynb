{
 "nbformat": 4,
 "nbformat_minor": 2,
 "metadata": {
  "language_info": {
   "name": "python",
   "codemirror_mode": {
    "name": "ipython",
    "version": 3
   }
  },
  "orig_nbformat": 2,
  "file_extension": ".py",
  "mimetype": "text/x-python",
  "name": "python",
  "npconvert_exporter": "python",
  "pygments_lexer": "ipython3",
  "version": 3
 },
 "cells": [
  {
   "cell_type": "code",
   "execution_count": 27,
   "metadata": {},
   "outputs": [],
   "source": [
    "# importing necessary libraries\n",
    "import pandas as pd\n",
    "import glob\n",
    "import numpy as np\n",
    "import warnings\n",
    "import os\n",
    "import re"
   ]
  },
  {
   "cell_type": "code",
   "execution_count": 28,
   "metadata": {},
   "outputs": [],
   "source": [
    "# Saccade Length Graph Expert\n",
    "path_graph_general = os.getcwd() + \"/data\" + \"/Graph General\"\n",
    "filenames_graph_general = glob.glob(path_graph_general + \"/*FXD.*\")\n",
    "\n",
    "graph_general_saccade_averages = []\n",
    "graph_general_scanpath = []\n",
    "participants = []\n",
    "\n",
    "# Each Users Saccade-Lengths/Average between fixation points\n",
    "for filename in filenames_graph_general:\n",
    "    #Participant \n",
    "    participants.append(re.search('Graph General/(.*).graphFXD.txt',filename).group(1))\n",
    "\n",
    "    # Initial Data\n",
    "    graph_general = []\n",
    "    graph_general.append(pd.read_csv(filename, sep = '\\t', header = None, error_bad_lines=False, warn_bad_lines=False))\n",
    "    graph_general_fxd_df = pd.concat(graph_general, ignore_index=True)\n",
    "    graph_general_fxd_df.shape\n",
    "    graph_general_fxd_df.rename(columns = {0:'number', \n",
    "                     1: 'time', \n",
    "                     2: 'duration', \n",
    "                     3: 'screen_x', \n",
    "                     4: 'screen_y'}, inplace = True)\n",
    "\n",
    "    # Saccade Lengths \n",
    "    x = (graph_general_fxd_df['screen_x'] - graph_general_fxd_df['screen_x'].shift())\n",
    "    y = (graph_general_fxd_df['screen_y'] - graph_general_fxd_df['screen_y'].shift())\n",
    "    graph_general_fxd_df['saccade_length'] = np.sqrt(x**2 + y**2)\n",
    "\n",
    "    # Find Average for user \n",
    "    graph_general_saccade_averages.append(graph_general_fxd_df['saccade_length'].mean())\n",
    "\n",
    "    # Scan Path\n",
    "    graph_general_scanpath.append(graph_general_fxd_df['saccade_length'].sum())"
   ]
  },
  {
   "cell_type": "code",
   "execution_count": 29,
   "metadata": {},
   "outputs": [],
   "source": [
    "graph_general_data = pd.DataFrame()\n",
    "graph_general_data.insert(0,'scanpath',graph_general_scanpath)\n",
    "graph_general_data.insert(1,'saccade_length',graph_general_saccade_averages)\n",
    "graph_general_data.insert(2,'ID',participants)"
   ]
  },
  {
   "cell_type": "code",
   "execution_count": 30,
   "metadata": {},
   "outputs": [
    {
     "data": {
      "text/html": "<div>\n<style scoped>\n    .dataframe tbody tr th:only-of-type {\n        vertical-align: middle;\n    }\n\n    .dataframe tbody tr th {\n        vertical-align: top;\n    }\n\n    .dataframe thead th {\n        text-align: right;\n    }\n</style>\n<table border=\"1\" class=\"dataframe\">\n  <thead>\n    <tr style=\"text-align: right;\">\n      <th></th>\n      <th>scanpath</th>\n      <th>saccade_length</th>\n      <th>ID</th>\n    </tr>\n  </thead>\n  <tbody>\n    <tr>\n      <th>0</th>\n      <td>917590.068290</td>\n      <td>160.811439</td>\n      <td>p34</td>\n    </tr>\n    <tr>\n      <th>1</th>\n      <td>351797.161522</td>\n      <td>165.162987</td>\n      <td>p10</td>\n    </tr>\n    <tr>\n      <th>2</th>\n      <td>425933.764769</td>\n      <td>136.124565</td>\n      <td>p32</td>\n    </tr>\n    <tr>\n      <th>3</th>\n      <td>486544.579491</td>\n      <td>111.900777</td>\n      <td>p20</td>\n    </tr>\n    <tr>\n      <th>4</th>\n      <td>712853.244953</td>\n      <td>147.314165</td>\n      <td>p16</td>\n    </tr>\n    <tr>\n      <th>5</th>\n      <td>549868.314582</td>\n      <td>127.995418</td>\n      <td>p6</td>\n    </tr>\n    <tr>\n      <th>6</th>\n      <td>439638.311711</td>\n      <td>176.988048</td>\n      <td>p18</td>\n    </tr>\n    <tr>\n      <th>7</th>\n      <td>137502.711459</td>\n      <td>227.653496</td>\n      <td>p4</td>\n    </tr>\n    <tr>\n      <th>8</th>\n      <td>178873.148370</td>\n      <td>153.539183</td>\n      <td>p2</td>\n    </tr>\n    <tr>\n      <th>9</th>\n      <td>174510.743191</td>\n      <td>170.754152</td>\n      <td>p28</td>\n    </tr>\n    <tr>\n      <th>10</th>\n      <td>567952.514591</td>\n      <td>145.853239</td>\n      <td>p30</td>\n    </tr>\n    <tr>\n      <th>11</th>\n      <td>291355.860061</td>\n      <td>130.477322</td>\n      <td>p14</td>\n    </tr>\n    <tr>\n      <th>12</th>\n      <td>427496.456464</td>\n      <td>169.574160</td>\n      <td>p24</td>\n    </tr>\n    <tr>\n      <th>13</th>\n      <td>411874.250624</td>\n      <td>118.184864</td>\n      <td>p36</td>\n    </tr>\n    <tr>\n      <th>14</th>\n      <td>280861.818396</td>\n      <td>120.438173</td>\n      <td>p12</td>\n    </tr>\n  </tbody>\n</table>\n</div>",
      "text/plain": "         scanpath  saccade_length   ID\n0   917590.068290      160.811439  p34\n1   351797.161522      165.162987  p10\n2   425933.764769      136.124565  p32\n3   486544.579491      111.900777  p20\n4   712853.244953      147.314165  p16\n5   549868.314582      127.995418   p6\n6   439638.311711      176.988048  p18\n7   137502.711459      227.653496   p4\n8   178873.148370      153.539183   p2\n9   174510.743191      170.754152  p28\n10  567952.514591      145.853239  p30\n11  291355.860061      130.477322  p14\n12  427496.456464      169.574160  p24\n13  411874.250624      118.184864  p36\n14  280861.818396      120.438173  p12"
     },
     "execution_count": 30,
     "metadata": {},
     "output_type": "execute_result"
    }
   ],
   "source": [
    "graph_general_data"
   ]
  },
  {
   "cell_type": "code",
   "execution_count": 31,
   "metadata": {},
   "outputs": [],
   "source": [
    "path_additional_participants = os.getcwd() + \"/data\" + \"/Additional Participant Data.csv\" \n",
    "df = pd.read_csv(path_additional_participants)"
   ]
  },
  {
   "cell_type": "code",
   "execution_count": 32,
   "metadata": {},
   "outputs": [
    {
     "data": {
      "text/html": "<div>\n<style scoped>\n    .dataframe tbody tr th:only-of-type {\n        vertical-align: middle;\n    }\n\n    .dataframe tbody tr th {\n        vertical-align: top;\n    }\n\n    .dataframe thead th {\n        text-align: right;\n    }\n</style>\n<table border=\"1\" class=\"dataframe\">\n  <thead>\n    <tr style=\"text-align: right;\">\n      <th></th>\n      <th>scanpath</th>\n      <th>saccade_length</th>\n      <th>ID</th>\n      <th>Ontologies</th>\n      <th>Visualization</th>\n      <th>Task_Success</th>\n      <th>Time_On_Task</th>\n    </tr>\n  </thead>\n  <tbody>\n    <tr>\n      <th>0</th>\n      <td>917590.068290</td>\n      <td>160.811439</td>\n      <td>p34</td>\n      <td>1</td>\n      <td>2</td>\n      <td>0.608696</td>\n      <td>38</td>\n    </tr>\n    <tr>\n      <th>1</th>\n      <td>351797.161522</td>\n      <td>165.162987</td>\n      <td>p10</td>\n      <td>1</td>\n      <td>2</td>\n      <td>0.608696</td>\n      <td>17</td>\n    </tr>\n    <tr>\n      <th>2</th>\n      <td>425933.764769</td>\n      <td>136.124565</td>\n      <td>p32</td>\n      <td>1</td>\n      <td>2</td>\n      <td>0.304348</td>\n      <td>21</td>\n    </tr>\n    <tr>\n      <th>3</th>\n      <td>486544.579491</td>\n      <td>111.900777</td>\n      <td>p20</td>\n      <td>1</td>\n      <td>2</td>\n      <td>0.391304</td>\n      <td>30</td>\n    </tr>\n    <tr>\n      <th>4</th>\n      <td>712853.244953</td>\n      <td>147.314165</td>\n      <td>p16</td>\n      <td>1</td>\n      <td>2</td>\n      <td>0.521739</td>\n      <td>28</td>\n    </tr>\n    <tr>\n      <th>5</th>\n      <td>549868.314582</td>\n      <td>127.995418</td>\n      <td>p6</td>\n      <td>1</td>\n      <td>2</td>\n      <td>0.869565</td>\n      <td>26</td>\n    </tr>\n    <tr>\n      <th>6</th>\n      <td>439638.311711</td>\n      <td>176.988048</td>\n      <td>p18</td>\n      <td>1</td>\n      <td>2</td>\n      <td>0.739130</td>\n      <td>21</td>\n    </tr>\n    <tr>\n      <th>7</th>\n      <td>137502.711459</td>\n      <td>227.653496</td>\n      <td>p4</td>\n      <td>1</td>\n      <td>2</td>\n      <td>0.391304</td>\n      <td>12</td>\n    </tr>\n    <tr>\n      <th>8</th>\n      <td>178873.148370</td>\n      <td>153.539183</td>\n      <td>p2</td>\n      <td>1</td>\n      <td>2</td>\n      <td>0.347826</td>\n      <td>19</td>\n    </tr>\n    <tr>\n      <th>9</th>\n      <td>174510.743191</td>\n      <td>170.754152</td>\n      <td>p28</td>\n      <td>1</td>\n      <td>2</td>\n      <td>0.521739</td>\n      <td>10</td>\n    </tr>\n    <tr>\n      <th>10</th>\n      <td>567952.514591</td>\n      <td>145.853239</td>\n      <td>p30</td>\n      <td>1</td>\n      <td>2</td>\n      <td>0.391304</td>\n      <td>23</td>\n    </tr>\n    <tr>\n      <th>11</th>\n      <td>291355.860061</td>\n      <td>130.477322</td>\n      <td>p14</td>\n      <td>1</td>\n      <td>2</td>\n      <td>0.521739</td>\n      <td>15</td>\n    </tr>\n    <tr>\n      <th>12</th>\n      <td>427496.456464</td>\n      <td>169.574160</td>\n      <td>p24</td>\n      <td>1</td>\n      <td>2</td>\n      <td>0.565217</td>\n      <td>32</td>\n    </tr>\n    <tr>\n      <th>13</th>\n      <td>411874.250624</td>\n      <td>118.184864</td>\n      <td>p36</td>\n      <td>1</td>\n      <td>2</td>\n      <td>0.434783</td>\n      <td>21</td>\n    </tr>\n    <tr>\n      <th>14</th>\n      <td>280861.818396</td>\n      <td>120.438173</td>\n      <td>p12</td>\n      <td>1</td>\n      <td>2</td>\n      <td>0.304348</td>\n      <td>17</td>\n    </tr>\n  </tbody>\n</table>\n</div>",
      "text/plain": "         scanpath  saccade_length   ID  Ontologies  Visualization  \\\n0   917590.068290      160.811439  p34           1              2   \n1   351797.161522      165.162987  p10           1              2   \n2   425933.764769      136.124565  p32           1              2   \n3   486544.579491      111.900777  p20           1              2   \n4   712853.244953      147.314165  p16           1              2   \n5   549868.314582      127.995418   p6           1              2   \n6   439638.311711      176.988048  p18           1              2   \n7   137502.711459      227.653496   p4           1              2   \n8   178873.148370      153.539183   p2           1              2   \n9   174510.743191      170.754152  p28           1              2   \n10  567952.514591      145.853239  p30           1              2   \n11  291355.860061      130.477322  p14           1              2   \n12  427496.456464      169.574160  p24           1              2   \n13  411874.250624      118.184864  p36           1              2   \n14  280861.818396      120.438173  p12           1              2   \n\n    Task_Success  Time_On_Task  \n0       0.608696            38  \n1       0.608696            17  \n2       0.304348            21  \n3       0.391304            30  \n4       0.521739            28  \n5       0.869565            26  \n6       0.739130            21  \n7       0.391304            12  \n8       0.347826            19  \n9       0.521739            10  \n10      0.391304            23  \n11      0.521739            15  \n12      0.565217            32  \n13      0.434783            21  \n14      0.304348            17  "
     },
     "execution_count": 32,
     "metadata": {},
     "output_type": "execute_result"
    }
   ],
   "source": [
    "# Combine (Additional P Data) and Tree General Data -> to the associated participant depending on if (1/2)\n",
    "\n",
    "# Remove Rows where Ontologies and Visualizations are not General/Tree\n",
    "df = df[df.Ontologies != 2]\n",
    "df = df[df.Visualization != 1]\n",
    "\n",
    "# Merge the Dataframes on ID\n",
    "additional_data_df = pd.merge(graph_general_data,df, on='ID',how='outer')\n",
    "additional_data_df.head(20)"
   ]
  },
  {
   "cell_type": "code",
   "execution_count": null,
   "metadata": {},
   "outputs": [],
   "source": []
  }
 ]
}