{
 "cells": [
  {
   "cell_type": "markdown",
   "metadata": {},
   "source": [
    "Tree General Saccade Length and Averages"
   ]
  },
  {
   "cell_type": "code",
   "execution_count": 1,
   "metadata": {},
   "outputs": [],
   "source": [
    "# importing necessary libraries\n",
    "import pandas as pd\n",
    "import glob\n",
    "import numpy as np\n",
    "import warnings\n",
    "import os\n",
    "import re"
   ]
  },
  {
   "cell_type": "code",
   "execution_count": 2,
   "metadata": {},
   "outputs": [
    {
     "ename": "AttributeError",
     "evalue": "'NoneType' object has no attribute 'group'",
     "output_type": "error",
     "traceback": [
      "\u001b[1;31m---------------------------------------------------------------------------\u001b[0m",
      "\u001b[1;31mAttributeError\u001b[0m                            Traceback (most recent call last)",
      "\u001b[1;32m<ipython-input-2-08849c65ab33>\u001b[0m in \u001b[0;36m<module>\u001b[1;34m()\u001b[0m\n\u001b[0;32m     10\u001b[0m \u001b[1;32mfor\u001b[0m \u001b[0mfilename\u001b[0m \u001b[1;32min\u001b[0m \u001b[0mfilenames_tree_general\u001b[0m\u001b[1;33m:\u001b[0m\u001b[1;33m\u001b[0m\u001b[0m\n\u001b[0;32m     11\u001b[0m     \u001b[1;31m#Participant\u001b[0m\u001b[1;33m\u001b[0m\u001b[1;33m\u001b[0m\u001b[0m\n\u001b[1;32m---> 12\u001b[1;33m     \u001b[0mparticipants\u001b[0m\u001b[1;33m.\u001b[0m\u001b[0mappend\u001b[0m\u001b[1;33m(\u001b[0m\u001b[0mre\u001b[0m\u001b[1;33m.\u001b[0m\u001b[0msearch\u001b[0m\u001b[1;33m(\u001b[0m\u001b[1;34m'Tree General/(.*).treeFXD.txt'\u001b[0m\u001b[1;33m,\u001b[0m\u001b[0mfilename\u001b[0m\u001b[1;33m)\u001b[0m\u001b[1;33m.\u001b[0m\u001b[0mgroup\u001b[0m\u001b[1;33m(\u001b[0m\u001b[1;36m1\u001b[0m\u001b[1;33m)\u001b[0m\u001b[1;33m)\u001b[0m\u001b[1;33m\u001b[0m\u001b[0m\n\u001b[0m\u001b[0;32m     13\u001b[0m \u001b[1;33m\u001b[0m\u001b[0m\n\u001b[0;32m     14\u001b[0m     \u001b[1;31m# Initial Data\u001b[0m\u001b[1;33m\u001b[0m\u001b[1;33m\u001b[0m\u001b[0m\n",
      "\u001b[1;31mAttributeError\u001b[0m: 'NoneType' object has no attribute 'group'"
     ]
    }
   ],
   "source": [
    "# Saccade Length Tree General\n",
    "path_tree_general = os.getcwd() + \"/data\" + \"/Tree General\"\n",
    "filenames_tree_general = glob.glob(path_tree_general + \"/*FXD.*\")\n",
    "\n",
    "tree_general_saccade_averages = []\n",
    "tree_general_scanpath = []\n",
    "participants = []\n",
    "\n",
    "# Each Users Saccade-Lengths/Average between fixation points\n",
    "for filename in filenames_tree_general:\n",
    "    #Participant \n",
    "    participants.append(re.search('Tree General/(.*).treeFXD.txt',filename).group(1))\n",
    "\n",
    "    # Initial Data\n",
    "    tree_general = []\n",
    "    tree_general.append(pd.read_csv(filename, sep = '\\t', header = None, error_bad_lines=False, warn_bad_lines=False))\n",
    "    tree_general_fxd_df = pd.concat(tree_general, ignore_index=True)\n",
    "    tree_general_fxd_df.shape\n",
    "    tree_general_fxd_df.rename(columns = {0:'number', \n",
    "                     1: 'time', \n",
    "                     2: 'duration', \n",
    "                     3: 'screen_x', \n",
    "                     4: 'screen_y'}, inplace = True)\n",
    "\n",
    "    # Saccade Lengths \n",
    "    x = (tree_general_fxd_df['screen_x'] - tree_general_fxd_df['screen_x'].shift())\n",
    "    y = (tree_general_fxd_df['screen_y'] - tree_general_fxd_df['screen_y'].shift())\n",
    "    tree_general_fxd_df['saccade_length'] = np.sqrt(x**2 + y**2)\n",
    "\n",
    "    # Find Average for user \n",
    "    tree_general_saccade_averages.append(tree_general_fxd_df['saccade_length'].mean())\n",
    "\n",
    "    # Scan Path\n",
    "    tree_general_scanpath.append(tree_general_fxd_df['saccade_length'].sum())"
   ]
  },
  {
   "cell_type": "code",
   "execution_count": null,
   "metadata": {},
   "outputs": [],
   "source": [
    "tree_general_data = pd.DataFrame()\n",
    "tree_general_data.insert(0,'scanpath',tree_general_scanpath)\n",
    "tree_general_data.insert(1,'saccade_length',tree_general_saccade_averages)\n",
    "tree_general_data.insert(2,'ID',participants)"
   ]
  },
  {
   "cell_type": "code",
   "execution_count": null,
   "metadata": {},
   "outputs": [],
   "source": [
    "tree_general_data"
   ]
  },
  {
   "cell_type": "markdown",
   "metadata": {},
   "source": [
    "Additional Participant Data"
   ]
  },
  {
   "cell_type": "code",
   "execution_count": 3,
   "metadata": {},
   "outputs": [],
   "source": [
    "path_additional_participants = os.getcwd() + \"/data\" + \"/Additional Participant Data.csv\" \n",
    "df = pd.read_csv(path_additional_participants)"
   ]
  },
  {
   "cell_type": "code",
   "execution_count": 4,
   "metadata": {},
   "outputs": [
    {
     "ename": "NameError",
     "evalue": "name 'tree_general_data' is not defined",
     "output_type": "error",
     "traceback": [
      "\u001b[1;31m---------------------------------------------------------------------------\u001b[0m",
      "\u001b[1;31mNameError\u001b[0m                                 Traceback (most recent call last)",
      "\u001b[1;32m<ipython-input-4-baf03309df1f>\u001b[0m in \u001b[0;36m<module>\u001b[1;34m()\u001b[0m\n\u001b[0;32m      6\u001b[0m \u001b[1;33m\u001b[0m\u001b[0m\n\u001b[0;32m      7\u001b[0m \u001b[1;31m# Merge the Dataframes on ID\u001b[0m\u001b[1;33m\u001b[0m\u001b[1;33m\u001b[0m\u001b[0m\n\u001b[1;32m----> 8\u001b[1;33m \u001b[0madditional_data_df\u001b[0m \u001b[1;33m=\u001b[0m \u001b[0mpd\u001b[0m\u001b[1;33m.\u001b[0m\u001b[0mmerge\u001b[0m\u001b[1;33m(\u001b[0m\u001b[0mtree_general_data\u001b[0m\u001b[1;33m,\u001b[0m \u001b[0madditional_data_df\u001b[0m\u001b[1;33m,\u001b[0m \u001b[0mon\u001b[0m\u001b[1;33m=\u001b[0m\u001b[1;34m'ID'\u001b[0m\u001b[1;33m,\u001b[0m\u001b[0mhow\u001b[0m\u001b[1;33m=\u001b[0m\u001b[1;34m'outer'\u001b[0m\u001b[1;33m)\u001b[0m\u001b[1;33m\u001b[0m\u001b[0m\n\u001b[0m",
      "\u001b[1;31mNameError\u001b[0m: name 'tree_general_data' is not defined"
     ]
    }
   ],
   "source": [
    "# Combine (Additional P Data) and Tree General Data -> to the associated participant depending on if (1/2)\n",
    "\n",
    "# Remove Rows where Ontologies and Visualizations are not General/Tree\n",
    "df = df[df.Ontologies != 2]\n",
    "df = df[df.Visualization != 2]\n",
    "\n",
    "# Merge the Dataframes on ID\n",
    "additional_data_df = pd.merge(tree_general_data, additional_data_df, on='ID',how='outer')"
   ]
  },
  {
   "cell_type": "code",
   "execution_count": null,
   "metadata": {},
   "outputs": [],
   "source": [
    "# Dropped Columns\n",
    "additional_data_df.drop(columns=['scanpath_x','saccade_length_x','saccade_length_y','scanpath_y'])"
   ]
  },
  {
   "cell_type": "code",
   "execution_count": null,
   "metadata": {},
   "outputs": [],
   "source": []
  }
 ],
 "metadata": {
  "file_extension": ".py",
  "kernelspec": {
   "display_name": "Python 3",
   "language": "python",
   "name": "python3"
  },
  "mimetype": "text/x-python",
  "name": "python",
  "npconvert_exporter": "python",
  "pygments_lexer": "ipython3",
  "version": 3
 },
 "nbformat": 4,
 "nbformat_minor": 2
}
